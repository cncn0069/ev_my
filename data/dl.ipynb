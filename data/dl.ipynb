{
 "cells": [
  {
   "cell_type": "code",
   "execution_count": 19,
   "id": "4a66d250",
   "metadata": {},
   "outputs": [],
   "source": [
    "import torch\n",
    "import torch.nn as nn\n",
    "import joblib\n",
    "import numpy as np\n",
    "import pandas as pd\n",
    "import matplotlib.pyplot as plt\n",
    "import copy\n",
    "\n",
    "from torch.utils.data import Dataset, DataLoader\n",
    "from sklearn.model_selection import train_test_split\n",
    "from sklearn.preprocessing import MinMaxScaler, RobustScaler,StandardScaler\n",
    "from torch.optim.lr_scheduler import ReduceLROnPlateau\n",
    "\n",
    "\n",
    "plt.rcParams[\"font.family\"] = \"Malgun Gothic\"\n",
    "plt.rcParams[\"axes.unicode_minus\"] = False\n",
    "plt.rcParams[\"figure.figsize\"] = (12, 6)"
   ]
  },
  {
   "cell_type": "code",
   "execution_count": 20,
   "id": "635df67d",
   "metadata": {},
   "outputs": [],
   "source": [
    "df = pd.read_csv('../data/50area_dummy_processed.csv')"
   ]
  },
  {
   "cell_type": "code",
   "execution_count": null,
   "id": "14a4312d",
   "metadata": {},
   "outputs": [],
   "source": [
    "df"
   ]
  },
  {
   "cell_type": "code",
   "execution_count": 3,
   "id": "29852b2f",
   "metadata": {},
   "outputs": [
    {
     "data": {
      "application/vnd.microsoft.datawrangler.viewer.v0+json": {
       "columns": [
        {
         "name": "index",
         "rawType": "int64",
         "type": "integer"
        },
        {
         "name": "requested_kwh",
         "rawType": "float64",
         "type": "float"
        }
       ],
       "ref": "7df761b8-770e-4555-a973-4b9d7fcedc2f",
       "rows": [
        [
         "0",
         "12.62"
        ],
        [
         "1",
         "17.81"
        ],
        [
         "2",
         "41.3"
        ],
        [
         "3",
         "21.08"
        ],
        [
         "4",
         "9.3"
        ],
        [
         "5",
         "27.25"
        ],
        [
         "6",
         "17.6"
        ],
        [
         "7",
         "28.14"
        ],
        [
         "8",
         "42.86"
        ],
        [
         "9",
         "20.51"
        ],
        [
         "10",
         "21.06"
        ],
        [
         "11",
         "26.24"
        ],
        [
         "12",
         "11.05"
        ],
        [
         "13",
         "21.76"
        ],
        [
         "14",
         "33.45"
        ],
        [
         "15",
         "27.98"
        ],
        [
         "16",
         "26.47"
        ],
        [
         "17",
         "20.15"
        ],
        [
         "18",
         "0.0"
        ],
        [
         "19",
         "16.21"
        ],
        [
         "20",
         "16.05"
        ],
        [
         "21",
         "24.09"
        ],
        [
         "22",
         "21.56"
        ],
        [
         "23",
         "8.86"
        ],
        [
         "24",
         "24.35"
        ],
        [
         "25",
         "15.55"
        ],
        [
         "26",
         "22.95"
        ],
        [
         "27",
         "19.09"
        ],
        [
         "28",
         "27.02"
        ],
        [
         "29",
         "24.62"
        ],
        [
         "30",
         "12.32"
        ],
        [
         "31",
         "7.06"
        ],
        [
         "32",
         "40.71"
        ],
        [
         "33",
         "15.21"
        ],
        [
         "34",
         "33.84"
        ],
        [
         "35",
         "28.49"
        ],
        [
         "36",
         "44.65"
        ],
        [
         "37",
         "17.17"
        ],
        [
         "38",
         "31.97"
        ],
        [
         "39",
         "17.53"
        ],
        [
         "40",
         "43.19"
        ],
        [
         "41",
         "37.29"
        ],
        [
         "42",
         "12.88"
        ],
        [
         "43",
         "38.05"
        ],
        [
         "44",
         "21.11"
        ],
        [
         "45",
         "14.21"
        ],
        [
         "46",
         "43.54"
        ],
        [
         "47",
         "18.77"
        ],
        [
         "48",
         "16.72"
        ],
        [
         "49",
         "26.8"
        ]
       ],
       "shape": {
        "columns": 1,
        "rows": 243612
       }
      },
      "text/plain": [
       "0         12.62\n",
       "1         17.81\n",
       "2         41.30\n",
       "3         21.08\n",
       "4          9.30\n",
       "          ...  \n",
       "243607    42.55\n",
       "243608    31.38\n",
       "243609    40.31\n",
       "243610    28.97\n",
       "243611    19.69\n",
       "Name: requested_kwh, Length: 243612, dtype: float64"
      ]
     },
     "execution_count": 3,
     "metadata": {},
     "output_type": "execute_result"
    }
   ],
   "source": [
    "df['requested_kwh']"
   ]
  },
  {
   "cell_type": "code",
   "execution_count": 4,
   "id": "5dde6bcb",
   "metadata": {},
   "outputs": [],
   "source": [
    "# numerical_columns=[\n",
    "#     \"last_charge_end_time_ts\",\n",
    "#     \"connection_start_time_ts\",\n",
    "#     \"charging_start_time_ts\",\n",
    "#     \"charging_end_time_ts\",\n",
    "#     \"connection_end_time_ts\",\n",
    "#     \"expected_departure_time_ts\",\n",
    "#     \"idle_time_ts\",\n",
    "#     \"expected_usage_duration_ts\",\n",
    "#     \"expected_time_diff_ts\",\n",
    "#     \"actual_usage_duration_ts\",\n",
    "#     \"actual_charging_duration_ts\",\n",
    "#     \"start_delay_duration_ts\",\n",
    "#     \"post_charge_departure_delay_ts\",\n",
    "#     \"usage_departure_time_diff_ts\",\n",
    "#     \"duration_per_kwh_ts\",\n",
    "#     \"delivered_kwh\",\n",
    "#     \"kwh_request_diff\",\n",
    "#     \"kwh_per_usage_time\",\n",
    "# ]\n"
   ]
  },
  {
   "cell_type": "code",
   "execution_count": 5,
   "id": "8995da57",
   "metadata": {},
   "outputs": [],
   "source": [
    "numerical_columns=[\n",
    "    \"delivered_kwh\",\n",
    "    \"kwh_request_diff\",\n",
    "    \"kwh_per_usage_time\",\n",
    "]\n"
   ]
  },
  {
   "cell_type": "code",
   "execution_count": 6,
   "id": "d379e96c",
   "metadata": {},
   "outputs": [],
   "source": [
    "time_series_columns = [\n",
    "    'last_charge_end_time_ts',\n",
    "    'connection_start_time_ts',\n",
    "    'charging_start_time_ts',\n",
    "    'charging_end_time_ts',\n",
    "    'connection_end_time_ts',\n",
    "    'expected_departure_time_ts',\n",
    "    'idle_time_ts',\n",
    "    'expected_usage_duration_ts',\n",
    "    'expected_time_diff_ts',\n",
    "    'actual_usage_duration_ts',\n",
    "    'actual_charging_duration_ts',\n",
    "    'start_delay_duration_ts',\n",
    "    'post_charge_departure_delay_ts',\n",
    "    'usage_departure_time_diff_ts',\n",
    "    'duration_per_kwh_ts'\n",
    "]\n"
   ]
  },
  {
   "cell_type": "code",
   "execution_count": 7,
   "id": "77077026",
   "metadata": {},
   "outputs": [],
   "source": [
    "categorical_columns = [\n",
    "            'evse_type', 'supports_discharge', 'scheduled_charge','weekday'\n",
    "            ,'usage_departure_range','post_charge_departure_range','cluster'\n",
    "        ]"
   ]
  },
  {
   "cell_type": "code",
   "execution_count": 8,
   "id": "99299597",
   "metadata": {},
   "outputs": [],
   "source": [
    "class EVChargeOneDataset(Dataset):\n",
    "    def __init__(self, df, seq_length=10, target_col='requested_kwh',\n",
    "                 group_cols=['station_location'],\n",
    "                 isTrain=True,\n",
    "                 input_scaler=None,\n",
    "                 target_scaler=None):\n",
    "\n",
    "        self.seq_length = seq_length\n",
    "        self.target_col = target_col\n",
    "        self.numerical_columns = numerical_columns.copy()\n",
    "        self.input_scaler = input_scaler\n",
    "        self.target_scaler = target_scaler\n",
    "        sequences = []\n",
    "        joblib.dump(self.numerical_columns, \"../model/numeric_cols.pkl\")\n",
    "\n",
    "        df = df.copy()\n",
    "        df.replace({'evse_type': {'': np.nan}}, inplace=True)\n",
    "        df[self.numerical_columns] = df[self.numerical_columns].fillna(0).astype(np.float32)\n",
    "        df[self.target_col] = df[self.target_col].fillna(0).astype(np.float32)\n",
    "\n",
    "        df = pd.get_dummies(df, columns= ['evse_type','weekday'], drop_first=False)\n",
    "\n",
    "        # numerical_columns를 여기서 새로 만듭니다\n",
    "        one_hot_columns = [col for col in df.columns if col.startswith('evse_type_') or col.startswith('weekday_')]\n",
    "        df[one_hot_columns] = df[one_hot_columns].fillna(0).astype(np.float32)\n",
    "        input_columns = numerical_columns + one_hot_columns\n",
    "        #input_columns.remove(self.target_col)\n",
    "        self.input_columns = input_columns\n",
    "\n",
    "        # ✅ 입력 피처 정규화\n",
    "        if isTrain:\n",
    "            df[self.numerical_columns] = self.input_scaler.fit_transform(df[self.numerical_columns])\n",
    "            df[[self.target_col]] = self.target_scaler.fit_transform(df[[self.target_col]])\n",
    "            joblib.dump(self.input_scaler, \"../model/input_scaler.pkl\")\n",
    "            joblib.dump(self.target_scaler, \"../model/target_scaler.pkl\")\n",
    "            joblib.dump(self.input_columns, \"../model/expected_features.pkl\")\n",
    "        else:\n",
    "            df[self.numerical_columns] = self.input_scaler.transform(df[self.numerical_columns])\n",
    "            df[[self.target_col]] = self.target_scaler.transform(df[[self.target_col]])\n",
    "\n",
    "        grouped = df.groupby(group_cols)\n",
    "\n",
    "        for _, group_df in grouped:\n",
    "            group_df = group_df.sort_values('last_charge_end_time_ts')\n",
    "            if len(group_df) <= seq_length:\n",
    "                continue\n",
    "\n",
    "            x = group_df[self.input_columns].values.astype(np.float32)\n",
    "            y = group_df[self.target_col].values.astype(np.float32)\n",
    "\n",
    "            for i in range(len(x) - seq_length):\n",
    "                x_seq = x[i:i + seq_length]\n",
    "                y_target = y[i + seq_length]\n",
    "                sequences.append((x_seq, y_target))\n",
    "        # group_cols 기준으로 그룹 수 확인\n",
    "        df['group_id'] = df[group_cols].astype(str).agg('_'.join, axis=1)\n",
    "\n",
    "        # 전체 그룹별 row 수 (시퀀스 생성 전 기준)\n",
    "        group_counts = df['group_id'].value_counts()\n",
    "\n",
    "        # ✅ 시퀀스로 실제 사용 가능한 그룹만 보기 (조건: len > seq_length)\n",
    "        min_seq_len = 10 # 또는 Dataset에서 사용한 self.seq_length\n",
    "        usable_group_counts = group_counts[group_counts > min_seq_len]\n",
    "\n",
    "        # 결과 출력\n",
    "        print(f\"⚡ 전체 그룹 수: {group_counts.shape[0]}\")\n",
    "        print(f\"✅ 시퀀스로 사용 가능한 그룹 수: {usable_group_counts.shape[0]}\")\n",
    "        print(f\"📊 그룹별 row 수 (상위 10개):\\n{group_counts.head(10)}\")\n",
    "\n",
    "\n",
    "        self.x = torch.tensor([seq[0] for seq in sequences], dtype=torch.float32)\n",
    "        self.y = torch.tensor([seq[1] for seq in sequences], dtype=torch.float32)\n",
    "        print(input_columns)\n",
    "        print(\"🟡 NaN in input:\", np.isnan(self.x.numpy()).sum())\n",
    "        print(\"🟡 NaN in target:\", np.isnan(self.y.numpy()).sum())\n",
    "\n",
    "    def __len__(self):\n",
    "        return len(self.x)\n",
    "\n",
    "    def __getitem__(self, idx):\n",
    "        return self.x[idx], self.y[idx]\n"
   ]
  },
  {
   "cell_type": "code",
   "execution_count": 9,
   "id": "ff3d15a8",
   "metadata": {},
   "outputs": [],
   "source": [
    "class EVChargeDataset(Dataset):\n",
    "    def __init__(self, df, seq_length=10, target_col='requested_kwh',\n",
    "                 numerical_columns=numerical_columns, group_cols=['station_location', 'evse_name'],isTrain=True,scaler = None):\n",
    "\n",
    "        self.seq_length = seq_length\n",
    "        self.target_col = target_col\n",
    "        self.numerical_columns = numerical_columns\n",
    "        self.scaler = scaler\n",
    "        sequences = []\n",
    "\n",
    "        df = df.copy()\n",
    "        df.columns = df.columns.str.strip()\n",
    "        # \"False\", \"True\" 등 문자열 → 불리언으로 변환\n",
    "        df.replace({'False': False, 'True': True}, inplace=True)\n",
    "        # 빈 문자열을 통일된 NaN으로 변환\n",
    "        df.replace('', np.nan, inplace=True)\n",
    "        # 마지막으로 NaN 전부 0으로 채움\n",
    "        df[numerical_columns] = df[numerical_columns].fillna(0).astype(np.float32)\n",
    "\n",
    "\n",
    "        if(isTrain):\n",
    "            df[self.numerical_columns] = self.scaler.fit_transform(df[self.numerical_columns])\n",
    "            # 스케일러 객체를 파일로 저장\n",
    "            joblib.dump(self.scaler, \"../model/robust_scaler.pkl\")\n",
    "            joblib.dump(self.numerical_columns, \"../model/numeric_cols.pkl\")\n",
    "        else:\n",
    "            df[self.numerical_columns] = self.scaler.transform(df[self.numerical_columns])\n",
    "            \n",
    "        # # 범주형 변수 → 원핫 인코딩\n",
    "        # df = pd.get_dummies(df, columns=categorical_columns, drop_first=False)\n",
    "\n",
    "        # 최종 입력에 사용할 컬럼 정의 (원핫 포함)\n",
    "        all_columns = df.select_dtypes(include=[np.number]).columns.tolist()\n",
    "        all_columns.remove(target_col)  # 타겟은 제외\n",
    "         # ✅ 최종 입력 피처 저장\n",
    "        print(all_columns)\n",
    "        joblib.dump(all_columns, \"../model/expected_features.pkl\")\n",
    "        self.input_columns = all_columns  # 시계열 시 사용\n",
    "\n",
    "\n",
    "        # 그룹별 시계열 생성\n",
    "        grouped = df.groupby(group_cols)\n",
    "\n",
    "        for _, group_df in grouped:\n",
    "            group_df = group_df.sort_values('last_charge_end_time_ts')\n",
    "            if len(group_df) <= seq_length:\n",
    "                continue\n",
    "\n",
    "            x = group_df[self.input_columns].values.astype(np.float32)\n",
    "            y = group_df[self.target_col].values.astype(np.float32)\n",
    "\n",
    "\n",
    "            for i in range(len(x) - seq_length):\n",
    "                x_seq = x[i: i + seq_length]\n",
    "                y_target = y[i + seq_length]\n",
    "                if np.isnan(x_seq).any() or np.isnan(y_target):   # ✅ NaN 있으면 건너뜀\n",
    "                    continue\n",
    "                sequences.append((x_seq, y_target))\n",
    "                \n",
    "        self.x = torch.tensor([seq[0] for seq in sequences], dtype=torch.float32)\n",
    "        self.y = torch.tensor([seq[1] for seq in sequences], dtype=torch.float32)\n",
    "\n",
    "    def __len__(self):\n",
    "        return len(self.x)\n",
    "\n",
    "    def __getitem__(self, idx):\n",
    "        return self.x[idx], self.y[idx]\n"
   ]
  },
  {
   "cell_type": "code",
   "execution_count": 10,
   "id": "a245f5ef",
   "metadata": {},
   "outputs": [],
   "source": [
    "df_train, df_test = train_test_split(df, test_size=0.2, random_state=42)"
   ]
  },
  {
   "cell_type": "code",
   "execution_count": 11,
   "id": "89b5283f",
   "metadata": {},
   "outputs": [
    {
     "name": "stdout",
     "output_type": "stream",
     "text": [
      "⚡ 전체 그룹 수: 193\n",
      "✅ 시퀀스로 사용 가능한 그룹 수: 193\n",
      "📊 그룹별 row 수 (상위 10개):\n",
      "group_id\n",
      "PW014244    10767\n",
      "PW013242     6726\n",
      "PI717134     6658\n",
      "HM001308     6447\n",
      "NT100717     6216\n",
      "PW013441     5677\n",
      "HM001096     5571\n",
      "PW013311     5279\n",
      "PIH01369     3007\n",
      "PI717223     2849\n",
      "Name: count, dtype: int64\n"
     ]
    },
    {
     "name": "stderr",
     "output_type": "stream",
     "text": [
      "C:\\Users\\user\\AppData\\Local\\Temp\\ipykernel_22544\\4017792193.py:71: UserWarning: Creating a tensor from a list of numpy.ndarrays is extremely slow. Please consider converting the list to a single numpy.ndarray with numpy.array() before converting to a tensor. (Triggered internally at C:\\actions-runner\\_work\\pytorch\\pytorch\\pytorch\\torch\\csrc\\utils\\tensor_new.cpp:257.)\n",
      "  self.x = torch.tensor([seq[0] for seq in sequences], dtype=torch.float32)\n"
     ]
    },
    {
     "name": "stdout",
     "output_type": "stream",
     "text": [
      "['delivered_kwh', 'kwh_request_diff', 'kwh_per_usage_time', 'evse_type_FC', 'evse_type_SC', 'weekday_0', 'weekday_1', 'weekday_2', 'weekday_3', 'weekday_4', 'weekday_5', 'weekday_6']\n",
      "🟡 NaN in input: 0\n",
      "🟡 NaN in target: 0\n",
      "⚡ 전체 그룹 수: 193\n",
      "✅ 시퀀스로 사용 가능한 그룹 수: 193\n",
      "📊 그룹별 row 수 (상위 10개):\n",
      "group_id\n",
      "PW014244    2702\n",
      "PI717134    1678\n",
      "PW013242    1649\n",
      "HM001308    1627\n",
      "NT100717    1583\n",
      "PW013441    1389\n",
      "PW013311    1360\n",
      "HM001096    1351\n",
      "PIH01369     793\n",
      "PI717223     713\n",
      "Name: count, dtype: int64\n",
      "['delivered_kwh', 'kwh_request_diff', 'kwh_per_usage_time', 'evse_type_FC', 'evse_type_SC', 'weekday_0', 'weekday_1', 'weekday_2', 'weekday_3', 'weekday_4', 'weekday_5', 'weekday_6']\n",
      "🟡 NaN in input: 0\n",
      "🟡 NaN in target: 0\n"
     ]
    }
   ],
   "source": [
    "seq_length = 10\n",
    "# seq_length = 30\n",
    "batch_size = 256\n",
    "scaler = RobustScaler()\n",
    "\n",
    "input_scaler = StandardScaler()\n",
    "target_scaler = StandardScaler()\n",
    "\n",
    "\n",
    "# 생성\n",
    "train_dataset = EVChargeOneDataset(df_train, isTrain=True, input_scaler=input_scaler, target_scaler=target_scaler)\n",
    "test_dataset = EVChargeOneDataset(df_test, isTrain=False, input_scaler=input_scaler, target_scaler=target_scaler)\n",
    "\n",
    "# train_dataset = EVChargeDataset(df=df_train,seq_length=seq_length,\n",
    "#                                 numerical_columns=numerical_columns,group_cols=['station_location', 'evse_name'],scaler=scaler)\n",
    "# test_dataset = EVChargeDataset(df=df_test, seq_length=seq_length,\n",
    "#                                numerical_columns=numerical_columns,group_cols=['station_location', 'evse_name'],isTrain=False,scaler=scaler)\n",
    "\n",
    "# train_dataset = EVChargeTimeDataset(df=df_train,seq_length=seq_length,\n",
    "#                                     time_series_columns=time_series_columns,group_cols=['station_location', 'evse_name'],\n",
    "#                                     target_col='requested_kwh')\n",
    "# test_dataset = EVChargeTimeDataset(df=df_test, seq_length=seq_length,\n",
    "#                                    time_series_columns=time_series_columns,group_cols=['station_location', 'evse_name'],\n",
    "#                                    target_col='requested_kwh')\n",
    "\n",
    "train_loader = DataLoader(train_dataset, batch_size=batch_size, shuffle=True)\n",
    "test_loader = DataLoader(test_dataset, batch_size=batch_size, shuffle=False)"
   ]
  },
  {
   "cell_type": "code",
   "execution_count": 12,
   "id": "c1a3dc75",
   "metadata": {},
   "outputs": [],
   "source": [
    "class LSTMModel(nn.Module):\n",
    "    def __init__(self, input_size, hidden_size, output_size):\n",
    "        super(LSTMModel, self).__init__()\n",
    "        self.lstm = nn.LSTM(input_size, hidden_size, batch_first=True)\n",
    "        self.fc = nn.Linear(hidden_size, output_size)\n",
    "    def forward(self, x):\n",
    "        _, (h_n, _) = self.lstm(x)\n",
    "        return self.fc(h_n.squeeze(0))"
   ]
  },
  {
   "cell_type": "code",
   "execution_count": 13,
   "id": "d637c0dc",
   "metadata": {},
   "outputs": [],
   "source": [
    "input_size = 12\n",
    "hidden_size = 128\n",
    "output_size = 1\n",
    "num_epochs = 10000\n",
    "learning_rate = 0.0001"
   ]
  },
  {
   "cell_type": "markdown",
   "id": "8f19d67b",
   "metadata": {},
   "source": []
  },
  {
   "cell_type": "code",
   "execution_count": 14,
   "id": "b0666529",
   "metadata": {},
   "outputs": [
    {
     "name": "stdout",
     "output_type": "stream",
     "text": [
      "Using device: cuda\n"
     ]
    }
   ],
   "source": [
    "device = torch.device(\"cuda\" if torch.cuda.is_available() else \"cpu\")\n",
    "print(f\"Using device: {device}\")"
   ]
  },
  {
   "cell_type": "code",
   "execution_count": 15,
   "id": "c766f4d8",
   "metadata": {},
   "outputs": [
    {
     "name": "stdout",
     "output_type": "stream",
     "text": [
      "LSTM Epoch [10/10000], Loss:  1.050785\n",
      "LSTM Epoch [10/10000], Train Loss: 1.0007\n",
      "LSTM Epoch [20/10000], Loss:  0.943575\n",
      "LSTM Epoch [20/10000], Train Loss: 1.0005\n",
      "LSTM 조기종료 [21/10000], Val Loss: 0.9995\n"
     ]
    }
   ],
   "source": [
    "lstm_model = LSTMModel(input_size, hidden_size, output_size).to(device)\n",
    "criterion = nn.MSELoss()\n",
    "optimizer = torch.optim.Adam(lstm_model.parameters(), lr=learning_rate)\n",
    "\n",
    "scheduler = ReduceLROnPlateau(optimizer=optimizer, mode=\"min\",factor=0.5,patience=10)\n",
    "# 검증 손실이 줄어들지 않을 때, 학습률을 줄임\n",
    "# 0.5\n",
    "# 10줄였는데 안줄면 멈춘다.\n",
    "\n",
    "# 종기 종료 파라미터\n",
    "patience_counter_lstm = 0\n",
    "best_val_loss_lstm = float(\"inf\")\n",
    "best_model_state_dict_lstm = None\n",
    "patience = 10\n",
    "epoch_train_losses = []\n",
    "epoch_val_losses = []\n",
    "for epoch in range(num_epochs):\n",
    "    lstm_model.train()\n",
    "    epoch_train_loss = 0\n",
    "    for batch_X, batch_y in train_loader:\n",
    "        batch_X = batch_X.to(device)\n",
    "        batch_y = batch_y.to(device)\n",
    "        optimizer.zero_grad()\n",
    "        outputs = lstm_model(batch_X)\n",
    "        loss = criterion(outputs, batch_y.unsqueeze(-1))\n",
    "        loss.backward()\n",
    "        optimizer.step()\n",
    "        epoch_train_loss += loss.item()    \n",
    "    epoch_train_loss /= len(train_loader)\n",
    "\n",
    "    if (epoch + 1) % 10 == 0:\n",
    "        print(f\"LSTM Epoch [{epoch+1}/{num_epochs}], Loss: {loss.item(): 4f}\")\n",
    "\n",
    "    lstm_model.eval()\n",
    "    epoch_val_loss = 0\n",
    "    with torch.no_grad():\n",
    "        for batch_X, batch_y in test_loader:\n",
    "            batch_X = batch_X.to(device)\n",
    "            batch_y = batch_y.to(device)\n",
    "            outputs = lstm_model(batch_X)\n",
    "            loss = criterion(outputs, batch_y.unsqueeze(-1))\n",
    "            epoch_val_loss += loss.item()\n",
    "    epoch_val_loss /= len(test_loader)          \n",
    "\n",
    "    scheduler.step(epoch_val_loss)\n",
    "    epoch_train_losses.append(epoch_train_loss)\n",
    "    epoch_val_losses.append(epoch_val_loss)\n",
    "\n",
    "    if (epoch+1) % 10 == 0:\n",
    "        print(f'LSTM Epoch [{epoch+1}/{num_epochs}], Train Loss: {epoch_train_loss:.4f}')\n",
    "\n",
    "    if epoch_val_loss < best_val_loss_lstm:\n",
    "        best_val_loss_lstm = epoch_val_loss\n",
    "        patience_counter_lstm = 0\n",
    "        best_model_state_dict_lstm = copy.deepcopy(lstm_model.state_dict())\n",
    "    else:\n",
    "        patience_counter_lstm += 1\n",
    "        if patience_counter_lstm >= patience:\n",
    "            print(\n",
    "                f\"LSTM 조기종료 [{epoch+1}/{num_epochs}], Val Loss: {epoch_val_loss:.4f}\"\n",
    "            )\n",
    "            break\n",
    "\n",
    "if best_model_state_dict_lstm:\n",
    "    lstm_model.load_state_dict(best_model_state_dict_lstm)\n",
    "    torch.save(best_model_state_dict_lstm, \"../model/lstm_model_best.pth\")\n",
    "else:\n",
    "    print(f\"조기종료 하지 못 했음\")\n",
    "\n",
    "# 예측값 모으기\n",
    "lstm_model.eval()\n",
    "lstm_test_predictions = []\n",
    "with torch.no_grad():\n",
    "    for batch_X, _ in test_loader:\n",
    "        batch_X = batch_X.to(device)\n",
    "        outputs = lstm_model(batch_X)\n",
    "        lstm_test_predictions.append(outputs.cpu().numpy())\n",
    "\n",
    "lstm_test_predictions = np.concatenate(lstm_test_predictions)  # shape (N, 1)\n",
    "\n",
    "# ✅ 예측값 역변환 (타깃 scaler 이용!)\n",
    "lstm_test_predictions_rescaled = target_scaler.inverse_transform(lstm_test_predictions)\n",
    "\n",
    "# 실제값 역변환\n",
    "y_test_tensor = test_dataset.y.unsqueeze(1).cpu().numpy()\n",
    "y_test_rescaled = target_scaler.inverse_transform(y_test_tensor)\n"
   ]
  },
  {
   "cell_type": "code",
   "execution_count": 16,
   "id": "5b72822a",
   "metadata": {},
   "outputs": [
    {
     "name": "stdout",
     "output_type": "stream",
     "text": [
      "[0] 실제: 31.97  예측: 21.28\n",
      "[1] 실제: 37.29  예측: 21.39\n",
      "[2] 실제: 21.11  예측: 21.43\n",
      "[3] 실제: 26.80  예측: 21.12\n",
      "[4] 실제: 34.60  예측: 21.22\n",
      "[5] 실제: 22.36  예측: 21.24\n",
      "[6] 실제: 39.42  예측: 21.19\n",
      "[7] 실제: 16.23  예측: 21.19\n",
      "[8] 실제: 13.46  예측: 21.01\n",
      "[9] 실제: -0.00  예측: 20.98\n"
     ]
    }
   ],
   "source": [
    "# 비교 출력\n",
    "for i in range(10):\n",
    "    print(f\"[{i}] 실제: {y_test_rescaled[i][0]:.2f}  예측: {lstm_test_predictions_rescaled[i][0]:.2f}\")\n"
   ]
  },
  {
   "cell_type": "code",
   "execution_count": 17,
   "id": "83565197",
   "metadata": {},
   "outputs": [
    {
     "data": {
      "image/png": "[encoded data removed]",
      "text/plain": [
       "<Figure size 1200x500 with 1 Axes>"
      ]
     },
     "metadata": {},
     "output_type": "display_data"
    },
    {
     "data": {
      "image/png": "[encoded data removed]",
      "text/plain": [
       "<Figure size 800x400 with 1 Axes>"
      ]
     },
     "metadata": {},
     "output_type": "display_data"
    }
   ],
   "source": [
    "import matplotlib.pyplot as plt\n",
    "import numpy as np\n",
    "\n",
    "# ──────────────────────────────────────────────\n",
    "# 1. 예측값 vs 실제값 라인플롯\n",
    "# ──────────────────────────────────────────────\n",
    "plt.figure(figsize=(12, 5))\n",
    "plt.plot(y_test_rescaled, label='Actual (y_test)', color='royalblue')\n",
    "plt.plot(lstm_test_predictions_rescaled, label='Predicted (LSTM)', color='tomato', alpha=0.7)\n",
    "plt.title('LSTM Prediction vs Actual')\n",
    "plt.xlabel('Sample index')\n",
    "plt.ylabel('kWh')\n",
    "plt.legend()\n",
    "plt.grid(alpha=0.3)\n",
    "plt.tight_layout()\n",
    "plt.show()\n",
    "\n",
    "# ──────────────────────────────────────────────\n",
    "# 2. 학습/검증 손실 곡선(옵션)\n",
    "#   - epoch_train_losses, epoch_val_losses 리스트가\n",
    "#     에포크마다 손실을 저장하고 있다고 가정합니다.\n",
    "# ──────────────────────────────────────────────\n",
    "# 예: 학습 루프 안에서\n",
    "# epoch_train_losses.append(epoch_train_loss)\n",
    "# epoch_val_losses.append(epoch_val_loss)\n",
    "\n",
    "try:\n",
    "    # 두 리스트가 존재할 때만 그리도록 예외 처리\n",
    "    plt.figure(figsize=(8, 4))\n",
    "    epochs = np.arange(1, len(epoch_train_losses) + 1)\n",
    "    plt.plot(epochs, epoch_train_losses, label='Train Loss', color='seagreen')\n",
    "    plt.plot(epochs, epoch_val_losses, label='Validation Loss', color='orange')\n",
    "    plt.title('Training & Validation Loss')\n",
    "    plt.xlabel('Epoch')\n",
    "    plt.ylabel('MSE Loss')\n",
    "    plt.legend()\n",
    "    plt.grid(alpha=0.3)\n",
    "    plt.tight_layout()\n",
    "    plt.show()\n",
    "except NameError:\n",
    "    print(\"epoch_train_losses / epoch_val_losses 리스트가 없습니다. \"\n",
    "          \"학습 루프에서 손실을 저장해 주세요.\")\n"
   ]
  }
 ],
 "metadata": {
  "kernelspec": {
   "display_name": "largeGarbage",
   "language": "python",
   "name": "python3"
  },
  "language_info": {
   "codemirror_mode": {
    "name": "ipython",
    "version": 3
   },
   "file_extension": ".py",
   "mimetype": "text/x-python",
   "name": "python",
   "nbconvert_exporter": "python",
   "pygments_lexer": "ipython3",
   "version": "3.11.13"
  }
 },
 "nbformat": 4,
 "nbformat_minor": 5
}
